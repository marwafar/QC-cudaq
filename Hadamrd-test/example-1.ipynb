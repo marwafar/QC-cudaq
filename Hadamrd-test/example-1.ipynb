{
 "cells": [
  {
   "cell_type": "code",
   "execution_count": 27,
   "metadata": {},
   "outputs": [],
   "source": [
    "import cudaq\n",
    "import numpy as np"
   ]
  },
  {
   "cell_type": "code",
   "execution_count": 28,
   "metadata": {},
   "outputs": [],
   "source": [
    "qubit_num=3\n",
    "\n",
    "@cudaq.kernel\n",
    "def swap_test():\n",
    "    qubits=cudaq.qvector(qubit_num)\n",
    "\n",
    "    h(qubits[0])\n",
    "    x(qubits[1])\n",
    "    swap.ctrl(qubits[0], qubits[1], qubits[2])\n",
    "    h(qubits[0])\n",
    "\n",
    "    mz(qubits[0])"
   ]
  },
  {
   "cell_type": "code",
   "execution_count": 29,
   "metadata": {},
   "outputs": [
    {
     "name": "stdout",
     "output_type": "stream",
     "text": [
      "     ╭───╮   ╭───╮\n",
      "q0 : ┤ h ├─●─┤ h ├\n",
      "     ├───┤ │ ╰───╯\n",
      "q1 : ┤ x ├─╳──────\n",
      "     ╰───╯ │      \n",
      "q2 : ──────╳──────\n",
      "                  \n",
      "\n"
     ]
    }
   ],
   "source": [
    "print(cudaq.draw(swap_test))"
   ]
  },
  {
   "cell_type": "code",
   "execution_count": 30,
   "metadata": {},
   "outputs": [
    {
     "name": "stdout",
     "output_type": "stream",
     "text": [
      "{ 0:10001 1:9999 }\n",
      "\n"
     ]
    }
   ],
   "source": [
    "nshots=20000\n",
    "count=cudaq.sample(swap_test,shots_count=nshots)\n",
    "print(count)"
   ]
  },
  {
   "cell_type": "code",
   "execution_count": 31,
   "metadata": {},
   "outputs": [
    {
     "name": "stdout",
     "output_type": "stream",
     "text": [
      "Square inner product:  9.999999999998899e-05\n"
     ]
    }
   ],
   "source": [
    "if '1' in count:\n",
    "    b=count['1']\n",
    "else:\n",
    "    b=0\n",
    "\n",
    "\n",
    "s=1-(2/nshots)*(b)\n",
    "\n",
    "print('Square inner product: ', s)\n",
    "\n",
    "\n",
    "    "
   ]
  }
 ],
 "metadata": {
  "kernelspec": {
   "display_name": "Python 3",
   "language": "python",
   "name": "python3"
  },
  "language_info": {
   "codemirror_mode": {
    "name": "ipython",
    "version": 3
   },
   "file_extension": ".py",
   "mimetype": "text/x-python",
   "name": "python",
   "nbconvert_exporter": "python",
   "pygments_lexer": "ipython3",
   "version": "3.10.12"
  }
 },
 "nbformat": 4,
 "nbformat_minor": 2
}
