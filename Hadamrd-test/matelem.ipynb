{
 "cells": [
  {
   "cell_type": "code",
   "execution_count": 2,
   "metadata": {},
   "outputs": [],
   "source": [
    "import cudaq\n",
    "import numpy as np\n"
   ]
  },
  {
   "cell_type": "code",
   "execution_count": 3,
   "metadata": {},
   "outputs": [],
   "source": [
    "# prepare the psi state\n",
    "@cudaq.kernel\n",
    "def psi(qubit:cudaq.qview):\n",
    "    qubit=cudaq.qubit()\n",
    "\n",
    "    h(qubit[1])\n",
    "\n",
    "\n",
    "# Prepare phi state\n",
    "@cudaq.kernel\n",
    "def phi(qubit:cudaq.qview):\n",
    "    x(qubit[0])\n"
   ]
  },
  {
   "cell_type": "code",
   "execution_count": 4,
   "metadata": {},
   "outputs": [],
   "source": [
    "ham=cudaq.spin.x(0)*cudaq.spin.x(1)"
   ]
  },
  {
   "cell_type": "code",
   "execution_count": null,
   "metadata": {},
   "outputs": [],
   "source": [
    "qubit_num=2\n",
    "@cudaq.kernel\n",
    "def main_kernel():\n",
    "    q=cudaq.qvector(qubit_num)\n",
    "\n",
    "    "
   ]
  }
 ],
 "metadata": {
  "kernelspec": {
   "display_name": "Python 3",
   "language": "python",
   "name": "python3"
  },
  "language_info": {
   "codemirror_mode": {
    "name": "ipython",
    "version": 3
   },
   "file_extension": ".py",
   "mimetype": "text/x-python",
   "name": "python",
   "nbconvert_exporter": "python",
   "pygments_lexer": "ipython3",
   "version": "3.10.12"
  }
 },
 "nbformat": 4,
 "nbformat_minor": 2
}
