{
 "cells": [
  {
   "cell_type": "code",
   "execution_count": 27,
   "metadata": {},
   "outputs": [],
   "source": [
    "import cudaq\n",
    "import numpy as np\n",
    "from functools import reduce"
   ]
  },
  {
   "cell_type": "code",
   "execution_count": 28,
   "metadata": {},
   "outputs": [
    {
     "name": "stdout",
     "output_type": "stream",
     "text": [
      "0.707107+0j 0+0j 0.707107+0j 0+0j \n",
      "\n"
     ]
    }
   ],
   "source": [
    "qubit_num=2\n",
    "\n",
    "@cudaq.kernel\n",
    "def psi(num:int):\n",
    "    q=cudaq.qvector(num)\n",
    "    h(q[1])\n",
    "\n",
    "psi_state=cudaq.get_state(psi,qubit_num)\n",
    "print(psi_state)"
   ]
  },
  {
   "cell_type": "code",
   "execution_count": 29,
   "metadata": {},
   "outputs": [
    {
     "name": "stdout",
     "output_type": "stream",
     "text": [
      "0+0j 1+0j 0+0j 0+0j \n",
      "\n"
     ]
    }
   ],
   "source": [
    "@cudaq.kernel\n",
    "def phi(n:int):\n",
    "    q=cudaq.qvector(n)\n",
    "    x(q[0])\n",
    "\n",
    "phi_state=cudaq.get_state(phi,qubit_num)\n",
    "print(phi_state)\n",
    "    "
   ]
  },
  {
   "cell_type": "code",
   "execution_count": 30,
   "metadata": {},
   "outputs": [
    {
     "name": "stdout",
     "output_type": "stream",
     "text": [
      "(0,0) (0,0) (0,0) (1,0)\n",
      "(0,0) (0,0) (1,0) (0,0)\n",
      "(0,0) (1,0) (0,0) (0,0)\n",
      "(1,0) (0,0) (0,0) (0,0)\n",
      "\n"
     ]
    }
   ],
   "source": [
    "ham=cudaq.spin.x(0)*cudaq.spin.x(1)\n",
    "ham_matrx=ham.to_matrix()\n",
    "print(ham_matrx)"
   ]
  },
  {
   "cell_type": "code",
   "execution_count": 31,
   "metadata": {},
   "outputs": [
    {
     "name": "stdout",
     "output_type": "stream",
     "text": [
      "(0.7071067690849304+0j)\n"
     ]
    }
   ],
   "source": [
    "exp_val=reduce(np.dot,(np.array(psi_state).conj().T, ham_matrx, phi_state))\n",
    "print(exp_val) "
   ]
  },
  {
   "cell_type": "code",
   "execution_count": 49,
   "metadata": {},
   "outputs": [
    {
     "name": "stdout",
     "output_type": "stream",
     "text": [
      "{ 0:8512 1:1488 }\n",
      "\n",
      "Observable:  0.7024 + - 0.005033061891135455\n",
      "numerically 0.7071067690849304\n"
     ]
    }
   ],
   "source": [
    "@cudaq.kernel\n",
    "def U_psi(q:cudaq.qview):\n",
    "    h(q[1])\n",
    "\n",
    "@cudaq.kernel\n",
    "def U_phi(q:cudaq.qview):\n",
    "    x(q[0])\n",
    "\n",
    "@cudaq.kernel  \n",
    "def ham_cir(q:cudaq.qview):\n",
    "    x(q[0])\n",
    "    x(q[1])\n",
    "\n",
    "@cudaq.kernel\n",
    "def kernel(n:int):\n",
    "    ancilla=cudaq.qubit()\n",
    "    q=cudaq.qvector(n)\n",
    "    h(ancilla)\n",
    "    cudaq.control(U_phi,ancilla,q)\n",
    "    cudaq.control(ham_cir,ancilla,q)\n",
    "    cudaq.control(U_psi,ancilla,q)\n",
    "    \n",
    "    h(ancilla)\n",
    "    \n",
    "    mz(ancilla)\n",
    "    \n",
    "shots=10000    \n",
    "count=cudaq.sample(kernel,qubit_num, shots_count=shots)    \n",
    "print(count)\n",
    "\n",
    "mean_val=(count['0']-count['1'])/shots\n",
    "error=np.sqrt(2*count['0']*count['1']/shots)/shots\n",
    "print('Observable: ', mean_val,'+ -', error)\n",
    "print('numerically', np.real(exp_val))\n",
    "\n"
   ]
  }
 ],
 "metadata": {
  "kernelspec": {
   "display_name": "Python 3",
   "language": "python",
   "name": "python3"
  },
  "language_info": {
   "codemirror_mode": {
    "name": "ipython",
    "version": 3
   },
   "file_extension": ".py",
   "mimetype": "text/x-python",
   "name": "python",
   "nbconvert_exporter": "python",
   "pygments_lexer": "ipython3",
   "version": "3.10.12"
  }
 },
 "nbformat": 4,
 "nbformat_minor": 2
}
