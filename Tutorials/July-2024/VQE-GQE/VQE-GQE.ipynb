{
 "cells": [
  {
   "cell_type": "markdown",
   "metadata": {},
   "source": [
    "# Agenda\n",
    "\n",
    "#### 1- Variational Quantum Eigensolver (VQE)\n",
    "#### 2- Generative Pre-training Transformer- Quantum Eigensolver (GPT-QE)"
   ]
  },
  {
   "cell_type": "markdown",
   "metadata": {},
   "source": [
    "### 1- Variational quantum eignsolver:\n",
    "\n",
    "![img](./VQE.png)"
   ]
  },
  {
   "cell_type": "markdown",
   "metadata": {},
   "source": [
    "### 1. VQA using ```cudaq.observe()``` & classical optimizer.\n",
    "- Using cudaq built-in optimizer"
   ]
  },
  {
   "cell_type": "code",
   "execution_count": 1,
   "metadata": {},
   "outputs": [
    {
     "name": "stdout",
     "output_type": "stream",
     "text": [
      "Initial cost value:  1.0\n",
      "Initial parameters:  [0.0, 0.0]\n",
      "Final cost value:  -0.9999999999999981\n",
      "Optimized parameters:  [3.141592653589793, 0.0]\n"
     ]
    }
   ],
   "source": [
    "import cudaq\n",
    "from cudaq import spin\n",
    "\n",
    "cudaq.set_target(\"nvidia\")\n",
    "\n",
    "@cudaq.kernel\n",
    "def vqe_circuit(theta: list[float]):\n",
    "    # Allocate a qubit that is initialised to the |0> state.\n",
    "    qubit = cudaq.qubit()\n",
    "    # Define gates and the qubits they act upon.\n",
    "    rx(theta[0], qubit)\n",
    "    ry(theta[1], qubit)\n",
    "\n",
    "\n",
    "# Our hamiltonian will be the Z expectation value of our qubit.\n",
    "hamiltonian = spin.z(0)\n",
    "\n",
    "# Initial gate parameters which initialize the qubit in the zero state\n",
    "initial_param = [0.0, 0.0]\n",
    "\n",
    "cost_values = []\n",
    "\n",
    "def cost(parameters):\n",
    "    \"\"\"Returns the expectation value as our cost.\"\"\"\n",
    "    expectation_value = cudaq.observe(vqe_circuit, hamiltonian, parameters).expectation()\n",
    "    cost_values.append(expectation_value)\n",
    "    return expectation_value\n",
    "\n",
    "initial_cost_value = cost(initial_param)\n",
    "print('Initial cost value: ', initial_cost_value)\n",
    "print('Initial parameters: ', initial_param)\n",
    "\n",
    "# Define a CUDA-Q optimizer.\n",
    "optimizer = cudaq.optimizers.COBYLA()\n",
    "optimizer.initial_parameters = initial_param\n",
    "\n",
    "result = optimizer.optimize(dimensions=2, function=cost)\n",
    "\n",
    "print('Final cost value: ', result[0])\n",
    "print('Optimized parameters: ', result[1])\n"
   ]
  },
  {
   "cell_type": "code",
   "execution_count": 2,
   "metadata": {},
   "outputs": [
    {
     "data": {
      "image/png": "[encoded data removed]",
      "text/plain": [
       "<Figure size 640x480 with 1 Axes>"
      ]
     },
     "metadata": {},
     "output_type": "display_data"
    }
   ],
   "source": [
    "import matplotlib.pyplot as plt\n",
    "\n",
    "x_values = list(range(len(cost_values)))\n",
    "y_values = cost_values\n",
    "\n",
    "plt.plot(x_values, y_values)\n",
    "\n",
    "plt.xlabel(\"Epochs\")\n",
    "plt.ylabel(\"Cost Value\")\n",
    "plt.show()"
   ]
  },
  {
   "cell_type": "markdown",
   "metadata": {},
   "source": [
    "- using third-party optimizer: ex. scipy optimizer"
   ]
  },
  {
   "cell_type": "code",
   "execution_count": 3,
   "metadata": {},
   "outputs": [
    {
     "name": "stdout",
     "output_type": "stream",
     "text": [
      "Initial cost value:  1.0\n",
      "Initial parameters:  [0.0, 0.0]\n",
      "Final cost value:  -0.9999999970938906\n",
      "Optimized parameters:  [3.14159466e+00 1.07798234e-04]\n"
     ]
    }
   ],
   "source": [
    "import cudaq\n",
    "from cudaq import spin\n",
    "import scipy\n",
    "\n",
    "cudaq.set_target(\"nvidia\")\n",
    "\n",
    "@cudaq.kernel\n",
    "def vqe_circuit_scipy(theta: list[float]):\n",
    "    # Allocate a qubit that is initialised to the |0> state.\n",
    "    qubit = cudaq.qubit()\n",
    "    # Define gates and the qubits they act upon.\n",
    "    rx(theta[0], qubit)\n",
    "    ry(theta[1], qubit)\n",
    "\n",
    "# Our hamiltonian will be the Z expectation value of our qubit.\n",
    "hamiltonian = spin.z(0)\n",
    "\n",
    "# Initial gate parameters which initialize the qubit in the zero state\n",
    "initial_parameters = [0.0, 0.0]\n",
    "\n",
    "def cost_scipy(parameters):\n",
    "    \"\"\"Returns the expectation value as our cost.\"\"\"\n",
    "    expectation_value = cudaq.observe(vqe_circuit_scipy, hamiltonian, parameters).expectation()\n",
    "    return expectation_value\n",
    "\n",
    "initial_cost_value = cost_scipy(initial_parameters)\n",
    "print('Initial cost value: ', initial_cost_value)\n",
    "print('Initial parameters: ', initial_parameters)\n",
    "\n",
    "\n",
    "result = scipy.optimize.minimize(cost_scipy,initial_parameters,method='COBYLA')\n",
    "\n",
    "print('Final cost value: ', result.fun)\n",
    "print('Optimized parameters: ', result.x)"
   ]
  },
  {
   "cell_type": "markdown",
   "metadata": {},
   "source": [
    "- VQE wrapper: combine ```cudaq.observe()``` and the optimizer"
   ]
  },
  {
   "cell_type": "code",
   "execution_count": 4,
   "metadata": {},
   "outputs": [
    {
     "name": "stdout",
     "output_type": "stream",
     "text": [
      "\n",
      "minimized <H> = -0.9999999999999981\n",
      "optimal theta = [3.141592653589793, 0.0]\n"
     ]
    }
   ],
   "source": [
    "import cudaq\n",
    "from cudaq import spin\n",
    "\n",
    "cudaq.set_target(\"nvidia\")\n",
    "\n",
    "@cudaq.kernel\n",
    "def vqe_circuit(theta: list[float]):\n",
    "    # Allocate a qubit that is initialised to the |0> state.\n",
    "    qubit = cudaq.qubit()\n",
    "    # Define gates and the qubits they act upon.\n",
    "    rx(theta[0], qubit)\n",
    "    ry(theta[1], qubit)\n",
    "\n",
    "\n",
    "# Our hamiltonian will be the Z expectation value of our qubit.\n",
    "hamiltonian = spin.z(0)\n",
    "\n",
    "# Initial gate parameters which initialize the qubit in the zero state\n",
    "initial_param = [0.0, 0.0]\n",
    "\n",
    "optimizer = cudaq.optimizers.COBYLA()\n",
    "optimizer.max_iterations = 30\n",
    "optimizer.initial_parameters=initial_param\n",
    "\n",
    "opt_value, opt_theta = cudaq.vqe(kernel=vqe_circuit, \n",
    "                         spin_operator=hamiltonian,\n",
    "                         optimizer=optimizer,\n",
    "                         parameter_count=len(initial_param))\n",
    "\n",
    "print(f\"\\nminimized <H> = {round(opt_value,16)}\")\n",
    "print(f\"optimal theta = {opt_theta}\")"
   ]
  },
  {
   "cell_type": "markdown",
   "metadata": {},
   "source": [
    "### Example: Max-Cut with QAOA\n",
    "\n",
    "- #### Max-Cut\n",
    "\n",
    "Each of these cuts below partitions the graph into two disjoint sets. The cut on the left is not optimal, and the cut on the right is the max cut. The cut on the left divides the graph into disjoint sets {1,2}  and {0,3,4}, and that cut contains 3 edges. To more easily visualize the cut, we have colored the vertices in one set of the partition green and the vertices in the other set of the partition gray. The cut depicted in the diagram on the right divides the graph vertices into two disjoint sets {0,2}, colored gray, and {1,3,4}, colored green.\n",
    "\n",
    "![img](./maxcut.png)\n",
    "\n",
    "For the graph on the right, the number of edges in the cut (in this case there are  edges) is maximal, and this value is referred to as the max cut value.\n",
    "\n",
    "The max cut solutions are 01011, 10100, 01010, 10101 \n",
    "\n",
    "- #### QAOA algorithm:\n",
    "$$\n",
    "H= \\frac{1}{2} \\sum_{u,v} \\left(Z_u Z_v - I_u I_v\\right)\n",
    "$$\n",
    "\n",
    "![img](./QAOA.png)"
   ]
  },
  {
   "cell_type": "code",
   "execution_count": 5,
   "metadata": {},
   "outputs": [
    {
     "name": "stdout",
     "output_type": "stream",
     "text": [
      "Initial parameters =  [0.21810696323572243, -0.20613464375211488, 0.2546877639814583, 0.3657985647468064]\n",
      "[0.5+0j] IIZIZ\n",
      "[0.5+0j] IZZII\n",
      "[-3+0j] IIIII\n",
      "[0.5+0j] ZZIII\n",
      "[0.5+0j] IIIZZ\n",
      "[0.5+0j] IIZZI\n",
      "[0.5+0j] ZIIZI\n",
      "\n",
      "optimal_expectation = -4.495975892990828\n",
      "Therefore, the max cut value is at least  4.495975892990828\n",
      "optimal_parameters = [0.5134562006629528, -0.21296600238693275, 0.32497261325857235, 0.8866578108675061]\n",
      "{ 11111:136 01111:102 01010:7547 01110:2258 01101:305 10010:326 00010:105 11010:276 00100:99 00110:3084 10101:7799 11000:307 01000:117 00111:264 11100:272 10111:101 10000:91 11011:106 10100:7662 10110:2289 11110:39 00001:46 10001:2358 00000:158 01001:2227 11101:98 11001:2984 00101:260 01011:7709 00011:230 01100:315 10011:330 }\n",
      "\n",
      "The max cut is given by the partition:  10101\n",
      "Most probable bit string:  10101\n"
     ]
    }
   ],
   "source": [
    "import cudaq\n",
    "from cudaq import spin\n",
    "import numpy as np\n",
    "\n",
    "cudaq.set_target('nvidia')\n",
    "\n",
    "\n",
    "nodes: list[int] = [0, 1, 2, 3, 4]\n",
    "edges = [[0, 1], [1, 2], [2, 3], [3, 0], [2, 4], [3, 4]]\n",
    "edges_src: list[int] = [edges[i][0] for i in range(len(edges))]\n",
    "edges_tgt: list[int] = [edges[i][1] for i in range(len(edges))]\n",
    "\n",
    "qubit_count: int = len(nodes)\n",
    "layer_count: int = 2\n",
    "parameter_count: int = 2 * layer_count\n",
    "\n",
    "@cudaq.kernel\n",
    "def qaoaProblem(qubit_0: cudaq.qubit, qubit_1: cudaq.qubit, alpha: float):\n",
    "    x.ctrl(qubit_0, qubit_1)\n",
    "    rz(2.0 * alpha, qubit_1)\n",
    "    x.ctrl(qubit_0, qubit_1)\n",
    "\n",
    "@cudaq.kernel\n",
    "def kernel_qaoa(qubit_count: int, layer_count: int, edges_src: list[int],\n",
    "                edges_tgt: list[int], thetas: list[float]):\n",
    "\n",
    "    # Let's allocate the qubits\n",
    "    qreg = cudaq.qvector(qubit_count)\n",
    "    # And then place the qubits in superposition\n",
    "    h(qreg)\n",
    "\n",
    "    # Each layer has two components: the problem kernel and the mixer\n",
    "    for i in range(layer_count):\n",
    "        # Add the problem kernel to each layer\n",
    "        for edge in range(len(edges_src)):\n",
    "            qubitu = edges_src[edge]\n",
    "            qubitv = edges_tgt[edge]\n",
    "            qaoaProblem(qreg[qubitu], qreg[qubitv], thetas[i])\n",
    "        # Add the mixer kernel to each layer\n",
    "        for j in range(qubit_count):\n",
    "            rx(2.0 * thetas[i + layer_count], qreg[j])\n",
    "\n",
    "def hamiltonian_max_cut(edges_src, edges_tgt):\n",
    "    \n",
    "    hamiltonian = 0\n",
    "\n",
    "    for edge in range(len(edges_src)):\n",
    "\n",
    "        qubitu = edges_src[edge]\n",
    "        qubitv = edges_tgt[edge]\n",
    "        # Add a term to the Hamiltonian for the edge (u,v)\n",
    "        hamiltonian += 0.5 * (spin.z(qubitu) * spin.z(qubitv) -\n",
    "                              spin.i(qubitu) * spin.i(qubitv))\n",
    "\n",
    "    return hamiltonian\n",
    "\n",
    "# Specify the optimizer and its initial parameters.\n",
    "cudaq.set_random_seed(13)\n",
    "optimizer = cudaq.optimizers.NelderMead()\n",
    "np.random.seed(13)\n",
    "optimizer.initial_parameters = np.random.uniform(-np.pi / 8, np.pi / 8,\n",
    "                                                 parameter_count)\n",
    "print(\"Initial parameters = \", optimizer.initial_parameters)\n",
    "\n",
    "# Generate the Hamiltonian for our graph\n",
    "hamiltonian = hamiltonian_max_cut(edges_src, edges_tgt)\n",
    "print(hamiltonian)\n",
    "\n",
    "def objective(parameters):\n",
    "    return cudaq.observe(kernel_qaoa, hamiltonian, qubit_count, layer_count,\n",
    "                         edges_src, edges_tgt, parameters).expectation()\n",
    "\n",
    "\n",
    "#Optimize!\n",
    "optimal_expectation, optimal_parameters = optimizer.optimize(\n",
    "    dimensions=parameter_count, function=objective)\n",
    "\n",
    "print('optimal_expectation =', optimal_expectation)\n",
    "print('Therefore, the max cut value is at least ', -1 * optimal_expectation)\n",
    "print('optimal_parameters =', optimal_parameters)\n",
    "\n",
    "counts = cudaq.sample(kernel_qaoa, qubit_count, layer_count, edges_src,\n",
    "                      edges_tgt, optimal_parameters, shots_count=50000)\n",
    "print(counts)\n",
    "\n",
    "# Identify the most likely outcome from the sample\n",
    "max_cut = max(counts, key=lambda x: counts[x])\n",
    "\n",
    "# Find the most probable bit string:\n",
    "\n",
    "print('The max cut is given by the partition: ',\n",
    "      max(counts, key=lambda x: counts[x]))\n",
    "\n",
    "# Alternatively\n",
    "print('Most probable bit string: ', counts.most_probable())  "
   ]
  },
  {
   "cell_type": "markdown",
   "metadata": {},
   "source": [
    "## Examples: VQE-UCCSD\n",
    "\n",
    "- #### Find the ground state energy for H2 molecule"
   ]
  },
  {
   "cell_type": "code",
   "execution_count": 6,
   "metadata": {},
   "outputs": [
    {
     "name": "stdout",
     "output_type": "stream",
     "text": [
      "-1.137175664940328\n"
     ]
    }
   ],
   "source": [
    "# pip install openfermionpyscf\n",
    "# python H2-full-space.py\n",
    "\n",
    "import cudaq \n",
    "\n",
    "cudaq.set_target(\"nvidia-fp64\")\n",
    "\n",
    "hydrogen_count = 2\n",
    "bond_distance = 0.7474\n",
    "geometry = [('H', (0, 0, i * bond_distance)) for i in range(hydrogen_count)]\n",
    "\n",
    "molecule, data = cudaq.chemistry.create_molecular_hamiltonian(geometry, 'sto-3g', 1, 0)\n",
    "electron_count = data.n_electrons\n",
    "qubit_count = 2 * data.n_orbitals\n",
    "\n",
    "@cudaq.kernel\n",
    "def kernel(thetas: list[float]):\n",
    "    qubits = cudaq.qvector(qubit_count)\n",
    "    \n",
    "    # Prepare the Hartree Fock State.\n",
    "    for i in range(electron_count):\n",
    "        x(qubits[i])\n",
    "\n",
    "    # UCCSD ansatz\n",
    "    cudaq.kernels.uccsd(qubits, thetas, electron_count, qubit_count)\n",
    "\n",
    "parameter_count = cudaq.kernels.uccsd_num_parameters(electron_count, qubit_count)\n",
    "optimizer = cudaq.optimizers.COBYLA()\n",
    "energy, parameters = cudaq.vqe(kernel, molecule, optimizer, parameter_count=parameter_count)\n",
    "print(energy)"
   ]
  },
  {
   "cell_type": "markdown",
   "metadata": {},
   "source": [
    "- #### With parameter shift to compute gradient"
   ]
  },
  {
   "cell_type": "code",
   "execution_count": 7,
   "metadata": {},
   "outputs": [
    {
     "name": "stderr",
     "output_type": "stream",
     "text": [
      "/tmp/ipykernel_184571/397601440.py:28: ComplexWarning: Casting complex values to real discards the imaginary part\n",
      "  spin_ham=cudaq.SpinOperator(qubit_hamiltonian)\n"
     ]
    },
    {
     "name": "stdout",
     "output_type": "stream",
     "text": [
      "VQE-UCCSD energy=  -75.98396413413515\n"
     ]
    }
   ],
   "source": [
    "import openfermion\n",
    "import openfermionpyscf\n",
    "from openfermion.transforms import jordan_wigner, get_fermion_operator\n",
    "\n",
    "import cudaq\n",
    "from scipy.optimize import minimize\n",
    "import numpy as np\n",
    "\n",
    "# GPU\n",
    "cudaq.set_target(\"nvidia-fp64\")\n",
    "\n",
    "# 1- Classical pre-processing:\n",
    "geometry=[('O', (0.1173,0.0,0.0)), ('H', (-0.4691,0.7570,0.0)), ('H', (-0.4691,-0.7570,0.0))]\n",
    "basis='631g'\n",
    "multiplicity=1\n",
    "charge=0\n",
    "ncore=3\n",
    "norb_cas, nele_cas = (4,4)\n",
    "\n",
    "molecule = openfermionpyscf.run_pyscf(openfermion.MolecularData(geometry, basis, multiplicity,charge))\n",
    "\n",
    "molecular_hamiltonian = molecule.get_molecular_hamiltonian(\n",
    "        occupied_indices=range(ncore), active_indices=range(ncore,ncore+norb_cas))\n",
    "\n",
    "fermion_hamiltonian = get_fermion_operator(molecular_hamiltonian)\n",
    "qubit_hamiltonian = jordan_wigner(fermion_hamiltonian)\n",
    "\n",
    "spin_ham=cudaq.SpinOperator(qubit_hamiltonian)\n",
    "\n",
    "# 2- Quantum computing using UCCSD ansatz\n",
    "electron_count=nele_cas\n",
    "qubit_count=2*norb_cas\n",
    "\n",
    "@cudaq.kernel\n",
    "def kernel(qubit_num:int, electron_num:int, thetas: list[float]):\n",
    "        qubits = cudaq.qvector(qubit_num)\n",
    "\n",
    "        for i in range(electron_num):\n",
    "                x(qubits[i])\n",
    "\n",
    "        cudaq.kernels.uccsd(qubits, thetas, electron_num, qubit_num)\n",
    "\n",
    "parameter_count = cudaq.kernels.uccsd_num_parameters(electron_count,qubit_count)\n",
    "\n",
    "gradient = cudaq.gradients.ParameterShift()\n",
    "\n",
    "def objective_function(parameter_vector: list[float], \\\n",
    "                       gradient=gradient, hamiltonian=spin_ham, kernel=kernel):\n",
    "\n",
    "\n",
    "    get_result = lambda parameter_vector: cudaq.observe\\\n",
    "        (kernel, hamiltonian, qubit_count, electron_count, parameter_vector).expectation()\n",
    "    \n",
    "    cost = get_result(parameter_vector)\n",
    "    gradient_vector = gradient.compute(parameter_vector, get_result,cost)\n",
    "    \n",
    "    return cost, gradient_vector\n",
    "\n",
    "# Initial variational parameters.\n",
    "np.random.seed(42)\n",
    "init_params = np.random.normal(0, 1, parameter_count)\n",
    "result_vqe=minimize(objective_function,init_params, method='L-BFGS-B', jac=True, tol=1e-8)\n",
    "\n",
    "print('VQE-UCCSD energy= ', result_vqe.fun)"
   ]
  },
  {
   "cell_type": "markdown",
   "metadata": {},
   "source": [
    "- ### Gate Fusion:\n",
    "\n",
    "Gate fusion is an optimization technique where consecutive quantum gates are combined or merged into a single gate to reduce the overall computational cost and improve circuit efficiency. The number of gates combined (gate fusion level) can significantly affect simulation performance and needs to be optimized for every application. You can now adjust the ```CUDAQ_MGPU_FUSE``` parameter and specify custom gate fusion levels different\n",
    "\n",
    "![img](./gate-fuse.png)\n",
    "\n",
    "#### Example: C2H4 molecule with 24 qubits"
   ]
  },
  {
   "cell_type": "markdown",
   "metadata": {},
   "source": [
    "``` python\n",
    "import openfermion\n",
    "import openfermionpyscf\n",
    "from openfermion.transforms import jordan_wigner, get_fermion_operator\n",
    "\n",
    "import timeit\n",
    "\n",
    "\n",
    "import cudaq\n",
    "import matplotlib.pyplot as plt\n",
    "from scipy.optimize import minimize\n",
    "import numpy as np\n",
    "\n",
    "# GPU\n",
    "cudaq.set_target(\"nvidia-mgpu\")\n",
    "\n",
    "# 1- Classical pre-processing:\n",
    "geometry=[('O', (0.1173,0.0,0.0)), ('H', (-0.4691,0.7570,0.0)), ('H', (-0.4691,-0.7570,0.0))]\n",
    "geometry=[('C',(0.000,0.000,0.6695)),('C', (0.000,0.000,-0.6695)), ('H',( 0.000,0.9289,1.2321)),\\\n",
    "    ('H', (0.000,-0.9289,1.2321)), ('H', (0.0000,0.9289,-1.2321)), ('H', (0.000,-0.9289,-1.2321))]\n",
    "basis='sto3g'\n",
    "multiplicity=1\n",
    "charge=0\n",
    "ncore=2\n",
    "norb_cas, nele_cas = (12,12)\n",
    "\n",
    "molecule = openfermionpyscf.run_pyscf(openfermion.MolecularData(geometry, basis, multiplicity,charge))\n",
    "\n",
    "molecular_hamiltonian = molecule.get_molecular_hamiltonian(\n",
    "        occupied_indices=range(ncore), active_indices=range(ncore,ncore+norb_cas))\n",
    "\n",
    "fermion_hamiltonian = get_fermion_operator(molecular_hamiltonian)\n",
    "qubit_hamiltonian = jordan_wigner(fermion_hamiltonian)\n",
    "\n",
    "spin_ham=cudaq.SpinOperator(qubit_hamiltonian)\n",
    "\n",
    "# 2- Quantum computing using UCCSD ansatz\n",
    "\n",
    "electron_count=nele_cas\n",
    "qubit_count=2*norb_cas\n",
    "\n",
    "@cudaq.kernel\n",
    "def kernel(qubit_num:int, electron_num:int, thetas: list[float]):\n",
    "        qubits = cudaq.qvector(qubit_num)\n",
    "\n",
    "        for i in range(electron_num):\n",
    "                x(qubits[i])\n",
    "\n",
    "        cudaq.kernels.uccsd(qubits, thetas, electron_num, qubit_num)\n",
    "\n",
    "parameter_count = cudaq.kernels.uccsd_num_parameters(electron_count,qubit_count)\n",
    "\n",
    "# Define a function to minimize\n",
    "def cost(theta):\n",
    "\n",
    "        exp_val = cudaq.observe(kernel, spin_ham, qubit_count, electron_count, theta).expectation()\n",
    "\n",
    "        return exp_val\n",
    "\n",
    "# Initial variational parameters.\n",
    "np.random.seed(42)\n",
    "x0 = np.random.normal(0, 1, parameter_count)\n",
    "\n",
    "start_time = timeit.default_timer()\n",
    "result=cost(x0)\n",
    "end_time=timeit.default_timer()\n",
    "\n",
    "print('Result for single vqe: ', result)\n",
    "print('Total elapsed time: ', end_time-start_time)\n",
    "```"
   ]
  },
  {
   "cell_type": "code",
   "execution_count": 8,
   "metadata": {},
   "outputs": [
    {
     "name": "stdout",
     "output_type": "stream",
     "text": [
      "/home/cudaq/QC-cudaq/Tutorials/July-2024/VQE-GQE/c2h4-vqe_24q.py:35: ComplexWarning: Casting complex values to real discards the imaginary part\n",
      "  spin_ham=cudaq.SpinOperator(qubit_hamiltonian)\n",
      "Result for single vqe:  -71.6469993850538\n",
      "Total elapsed time:  21.581839392893016\n"
     ]
    }
   ],
   "source": [
    "!CUDAQ_MGPU_FUSE=4 python c2h4-vqe_24q.py "
   ]
  },
  {
   "cell_type": "markdown",
   "metadata": {},
   "source": [
    "#### 2- GPT-QE\n",
    "\n",
    "See demo presentation for details.\n",
    "\n",
    "![img](./GQE.png)"
   ]
  }
 ],
 "metadata": {
  "kernelspec": {
   "display_name": "Python 3",
   "language": "python",
   "name": "python3"
  },
  "language_info": {
   "codemirror_mode": {
    "name": "ipython",
    "version": 3
   },
   "file_extension": ".py",
   "mimetype": "text/x-python",
   "name": "python",
   "nbconvert_exporter": "python",
   "pygments_lexer": "ipython3",
   "version": "3.10.12"
  }
 },
 "nbformat": 4,
 "nbformat_minor": 2
}
